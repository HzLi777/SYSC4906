{
  "nbformat": 4,
  "nbformat_minor": 0,
  "metadata": {
    "colab": {
      "provenance": [],
      "include_colab_link": true
    },
    "kernelspec": {
      "name": "python3",
      "display_name": "Python 3"
    },
    "language_info": {
      "name": "python"
    }
  },
  "cells": [
    {
      "cell_type": "markdown",
      "metadata": {
        "id": "view-in-github",
        "colab_type": "text"
      },
      "source": [
        "<a href=\"https://colab.research.google.com/github/jrgreen7/SYSC4906/blob/master/W2024/Ass1_SYSC4415_W24.ipynb\" target=\"_parent\"><img src=\"https://colab.research.google.com/assets/colab-badge.svg\" alt=\"Open In Colab\"/></a>"
      ]
    },
    {
      "cell_type": "markdown",
      "source": [
        "Overall Instructions:\n",
        "\n",
        "Please print out values when asked for using python's print() function.\n",
        "As soon as I open your assignment, I will click \"runtime\" → \"run all\". Ensure your notebook displays all answers when this is clicked.\n",
        "\n",
        "For text answers, like explanations, you can put your answer in comments or in print statements."
      ],
      "metadata": {
        "id": "RhO4OHS6NSXE"
      }
    },
    {
      "cell_type": "markdown",
      "source": [
        "## Section 1: Gradients"
      ],
      "metadata": {
        "id": "RGxS1liTz5_3"
      }
    },
    {
      "cell_type": "code",
      "source": [
        "\"\"\"\n",
        "Q1a (1 mark)\n",
        "Calculate the gradient of the function: f(x, y, z) = 7z(x^2) – 6x(y^3) + 9z at (-10, 0, 2)\n",
        "\"\"\"\n",
        "\n",
        "# YOUR ANSWER HERE (text only)"
      ],
      "metadata": {
        "id": "2Yij2Xm-z15j"
      },
      "execution_count": null,
      "outputs": []
    },
    {
      "cell_type": "code",
      "source": [
        "\"\"\"\n",
        "Q1b (1 mark)\n",
        "What does the gradient you calculated above represent?\n",
        "\"\"\"\n",
        "\n",
        "# YOUR ANSWER HERE (text only)"
      ],
      "metadata": {
        "id": "95fq2W4f0v8K"
      },
      "execution_count": null,
      "outputs": []
    },
    {
      "cell_type": "code",
      "source": [
        "\"\"\"\n",
        "Q1c (2 marks)\n",
        "Verify your answer to Q1a numerically.\n",
        "Specifically, write a function that estimates the partial derivatives of the function with respect to the inputs x, y, and z.\n",
        "Do this by adding a small perturbation to the input (one input at a time) and observing the change in the value of the function.\n",
        "\"\"\"\n",
        "\n",
        "# YOUR ANSWER HERE (code only)"
      ],
      "metadata": {
        "id": "5XWnGR4M1LwC"
      },
      "execution_count": null,
      "outputs": []
    },
    {
      "cell_type": "markdown",
      "source": [
        "## Section 2: Develop a Model"
      ],
      "metadata": {
        "id": "sKVhKD00POGx"
      }
    },
    {
      "cell_type": "code",
      "source": [
        "\"\"\"\n",
        "Q2a (1 mark)\n",
        "Use scikit-learn to load in the Breast Cancer Wisconsin (Diagnostic) dataset.\n",
        "Scikit-learn has this dataset in its toy datasets: https://scikit-learn.org/stable/datasets/toy_dataset.html\n",
        "Create a variable that contains the features and another variable that contains the labels. In the tutorials we did exactly this, but for the wine dataset.\n",
        "\"\"\"\n",
        "from sklearn.datasets import load_breast_cancer\n",
        "\n",
        "# YOUR ANSWER HERE (code only)"
      ],
      "metadata": {
        "id": "AtTzr3xQ978Y"
      },
      "execution_count": null,
      "outputs": []
    },
    {
      "cell_type": "code",
      "source": [
        "\"\"\"\n",
        "Q2b (1 mark)\n",
        "\n",
        "For the data you loaded in Q2a, use scikit-learn's train_test_split functon to create a training set, a validation set, and a test set.\n",
        "The training set should be 20% of the data, the validation set should be 40% of the data, and the test set should be 40% of the data.\n",
        "IMPORTANT: use random_seed=42 when splitting the data.\n",
        "Print out the shapes of the training set, validation set, test set arrays.\n",
        "\"\"\"\n",
        "from sklearn.model_selection import train_test_split\n",
        "\n",
        "# YOUR ANSWER HERE (code only)"
      ],
      "metadata": {
        "id": "sNv20cLl_IQu"
      },
      "execution_count": null,
      "outputs": []
    },
    {
      "cell_type": "code",
      "source": [
        "\"\"\"\n",
        "Q2c (1 mark)\n",
        "Normalize the features (of the breast cancer data) such that the training set has mean 0 and standard deviation 1.\n",
        "Also normalize the validation set and the test set---but using the statistics (mean and std) from the training set.\n",
        "Print out the mean and standard deviation of the features in each split.\n",
        "\"\"\"\n",
        "from sklearn.preprocessing import StandardScaler\n",
        "\n",
        "# YOUR ANSWER HERE (code only)"
      ],
      "metadata": {
        "id": "mRtV-X3Y_2g3"
      },
      "execution_count": null,
      "outputs": []
    },
    {
      "cell_type": "code",
      "source": [
        "\"\"\"\n",
        "Q2d (3 marks)\n",
        "Use the training set, prepared in Q2c, to train the following models:\n",
        "\n",
        "1. Scikit-learn's DecisionTreeClassifier with max_depth=1\n",
        "2. Scikit-learn's DecisionTreeClassifier with max_depth=2\n",
        "3. Scikit-learn's DecisionTreeClassifier with max_depth=3\n",
        "4. Scikit-learn's DecisionTreeClassifier with max_depth=4\n",
        "5. Scikit-learn's DecisionTreeClassifier with max_depth=5\n",
        "6. Scikit-learn's DecisionTreeClassifier with max_depth=50\n",
        "7. Scikit-learn's SVC with a 'linear' kernel\n",
        "8. Scikit-learn's SVC with a 'rbf' kernel\n",
        "9. Scikit-learn's SVC with a 'poly' kernel\n",
        "\n",
        "Other than the specified hyper-parameters (i.e., max_depth and kernel type) use default hyper-parameters by not providing them as arguments.\n",
        "\n",
        "If the algorithm receives random_seed as an argument, always choose random_seed=42; otherwise you may get different results from me!\n",
        "For each of the 9 models, print out the overall accuracy on the training set and validation set.\n",
        "\"\"\"\n",
        "from sklearn.tree import DecisionTreeClassifier\n",
        "from sklearn.svm import SVC\n",
        "from sklearn.metrics import accuracy_score\n",
        "\n",
        "# YOUR ANSWER HERE (code only)"
      ],
      "metadata": {
        "id": "_Q_TAORBBMTu"
      },
      "execution_count": null,
      "outputs": []
    },
    {
      "cell_type": "code",
      "source": [
        "\"\"\"\n",
        "Q2e (1 mark)\n",
        "Based on your results in Q2d, is the data linearly separable? Very briefly explain.\n",
        "\"\"\"\n",
        "\n",
        "# YOUR ANSWER HERE (text only)"
      ],
      "metadata": {
        "colab": {
          "base_uri": "https://localhost:8080/",
          "height": 35
        },
        "id": "WpiPUVho_p52",
        "outputId": "ba2ae106-a34f-4e2a-c63e-49b7ce577679"
      },
      "execution_count": null,
      "outputs": [
        {
          "output_type": "execute_result",
          "data": {
            "text/plain": [
              "'\\nQ2e (3 marks)\\nBased on your results in Q2d, can the features linearly separate the labels?\\n'"
            ],
            "application/vnd.google.colaboratory.intrinsic+json": {
              "type": "string"
            }
          },
          "metadata": {},
          "execution_count": 1
        }
      ]
    },
    {
      "cell_type": "code",
      "source": [
        "\"\"\"\n",
        "Q2f (1 mark)\n",
        "If your only selection criteria were the overall accuracy, which model would you choose?\n",
        "Briefly explain your choice. (Hint: remember the roles of train, validation, and test sets.)\n",
        "\"\"\"\n",
        "\n",
        "# YOUR ANSWER HERE (text only)"
      ],
      "metadata": {
        "id": "TEWFM2hII_Nk"
      },
      "execution_count": null,
      "outputs": []
    },
    {
      "cell_type": "code",
      "source": [
        "\"\"\"\n",
        "Q2g (1 mark)\n",
        "A woman is told by her doctor that, according to this ML model you developed, she has breast cancer.\n",
        "Use the test set to estimate the probability that she actually has breast cancer.\n",
        "\"\"\"\n",
        "\n",
        "# YOUR ANSWER HERE (code only)"
      ],
      "metadata": {
        "id": "-OMIQoQkCJNf"
      },
      "execution_count": null,
      "outputs": []
    },
    {
      "cell_type": "markdown",
      "source": [
        "## Question 3: Decision Trees"
      ],
      "metadata": {
        "id": "q2tIRraKCGFU"
      }
    },
    {
      "cell_type": "code",
      "source": [
        "\"\"\"\n",
        "Q3 (2 marks)\n",
        "Train two decision trees using scikit-learn on the breast cancer training data you prepared in Q2c:\n",
        "1. DecisionTreeClassifier(max_depth=100, random_state=42)\n",
        "2. DecisionTreeClassifier(max_depth=100, splitter='random', random_state=42)\n",
        "\n",
        "Print out the training and validation overall accuracies for each model.\n",
        "Visualize the trees using sklearn's plot_tree(model) function.\n",
        "\n",
        "Briefly discuss the differences between the two trees and relate this difference with their ability to generalize.\n",
        "\"\"\"\n",
        "from sklearn.tree import plot_tree\n",
        "\n",
        "# YOUR ANSWER HERE (code and text)"
      ],
      "metadata": {
        "id": "F3-q6vHVCJXM"
      },
      "execution_count": null,
      "outputs": []
    }
  ]
}